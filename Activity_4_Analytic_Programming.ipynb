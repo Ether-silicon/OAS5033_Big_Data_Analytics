{
  "nbformat": 4,
  "nbformat_minor": 0,
  "metadata": {
    "colab": {
      "provenance": [],
      "toc_visible": true,
      "authorship_tag": "ABX9TyMoCypoUY9YHE0LiSTvcFWq",
      "include_colab_link": true
    },
    "kernelspec": {
      "name": "python3",
      "display_name": "Python 3"
    },
    "language_info": {
      "name": "python"
    }
  },
  "cells": [
    {
      "cell_type": "markdown",
      "metadata": {
        "id": "view-in-github",
        "colab_type": "text"
      },
      "source": [
        "<a href=\"https://colab.research.google.com/github/Ether-silicon/OAS5033_Big_Data_Analytics/blob/main/Activity_4_Analytic_Programming.ipynb\" target=\"_parent\"><img src=\"https://colab.research.google.com/assets/colab-badge.svg\" alt=\"Open In Colab\"/></a>"
      ]
    },
    {
      "cell_type": "markdown",
      "source": [
        "## OAS5033 Big Data Analytics - Activity 4 Analytic Programming\n",
        "* Prepared by: Teh Yoong Sin 24002113\n",
        "* Date: 31/10/2024\n",
        "* Dataset: Provided in Activity 4 - Hospital services vs patient's complaints"
      ],
      "metadata": {
        "id": "4tLboFU5gTRa"
      }
    },
    {
      "cell_type": "markdown",
      "source": [
        "---\n",
        "## Questions background\n",
        "\n",
        "The hospital administration has gathered data on patient complaints to identify key areas requiring improvement, as shown in Table 1. This data captures the volume of complaints across various hospital service categories. Hospital management aims to prioritize actions that will enhance patient satisfaction, with a focus on addressing the most critical concerns to significantly improve the patient experience.\n",
        "\n",
        "#####_Table 1: Hospital Services VS Patients’ Complaints_ <a id=\"target-heading-5\"></a>\n",
        "\n",
        "| Hospital Services                    | No. of Complaints   |\n",
        "|:-------------------------------------|:--------------------|\n",
        "| Charge extra fee                     | 77                  |\n",
        "| Unhygienic environment               | 87                  |\n",
        "| Limited number of specialist doctors | 320                 |\n",
        "| Unfriendly staff                     | 83.5                |\n",
        "| Doctors not always available         | 33.5                |\n"
      ],
      "metadata": {
        "id": "DEY8TS3Xgi-7"
      }
    },
    {
      "cell_type": "markdown",
      "source": [
        "## Q1: How can we group similar complaints to identify key problem areas in hospital services?"
      ],
      "metadata": {
        "id": "MYwFw19KhZC5"
      }
    },
    {
      "cell_type": "markdown",
      "source": [
        "### Answer Q1:\n",
        "We can group similar complaints by categorizing them based on common themes, such as:\n",
        "* Staff Behavior,\n",
        "* Availability,\n",
        "* Environment,\n",
        "* Charges.\n",
        "\n",
        "In Python, we could add a new column to represent these categories."
      ],
      "metadata": {
        "id": "HgOB7psyhSHb"
      }
    },
    {
      "cell_type": "code",
      "source": [
        "import pandas as pd\n",
        "\n",
        "# Create a list of lists for the data\n",
        "data = [\n",
        "    [\"Charge extra fee\", 77],\n",
        "    [\"Unhygienic environment\", 87],\n",
        "    [\"Limited number of specialist doctors\", 320],\n",
        "    [\"Unfriendly staff\", 83.5],\n",
        "    [\"Doctors not always available\", 33.5]\n",
        "]\n",
        "\n",
        "# Create a DataFrame from the data\n",
        "df = pd.DataFrame(data, columns=[\"Hospital Services\", \"No. of Complaints\"])\n",
        "\n",
        "print(df)"
      ],
      "metadata": {
        "colab": {
          "base_uri": "https://localhost:8080/"
        },
        "id": "4iQchv35h2t7",
        "outputId": "72f1597a-0999-4d73-a106-1a68ee7faf3f"
      },
      "execution_count": 2,
      "outputs": [
        {
          "output_type": "stream",
          "name": "stdout",
          "text": [
            "                      Hospital Services  No. of Complaints\n",
            "0                      Charge extra fee               77.0\n",
            "1                Unhygienic environment               87.0\n",
            "2  Limited number of specialist doctors              320.0\n",
            "3                      Unfriendly staff               83.5\n",
            "4          Doctors not always available               33.5\n"
          ]
        }
      ]
    },
    {
      "cell_type": "markdown",
      "source": [
        "We can group similar complaints such as \"Limited no. of specialist doctors\" and \"Doctors not always available\" as \"Availability category."
      ],
      "metadata": {
        "id": "P7KVDjQSiO4I"
      }
    },
    {
      "cell_type": "code",
      "execution_count": 3,
      "metadata": {
        "colab": {
          "base_uri": "https://localhost:8080/",
          "height": 175
        },
        "id": "QpenpIlOf9Y-",
        "outputId": "bf18bdb4-cb1d-4f1b-a97e-2258f0197cff"
      },
      "outputs": [
        {
          "output_type": "execute_result",
          "data": {
            "text/plain": [
              "         Category  No. of Complaints\n",
              "0    Availability              353.5\n",
              "1         Charges               77.0\n",
              "2     Environment               87.0\n",
              "3  Staff Behavior               83.5"
            ],
            "text/html": [
              "\n",
              "  <div id=\"df-74346a1d-ab9e-436a-9849-e5c3b45fba84\" class=\"colab-df-container\">\n",
              "    <div>\n",
              "<style scoped>\n",
              "    .dataframe tbody tr th:only-of-type {\n",
              "        vertical-align: middle;\n",
              "    }\n",
              "\n",
              "    .dataframe tbody tr th {\n",
              "        vertical-align: top;\n",
              "    }\n",
              "\n",
              "    .dataframe thead th {\n",
              "        text-align: right;\n",
              "    }\n",
              "</style>\n",
              "<table border=\"1\" class=\"dataframe\">\n",
              "  <thead>\n",
              "    <tr style=\"text-align: right;\">\n",
              "      <th></th>\n",
              "      <th>Category</th>\n",
              "      <th>No. of Complaints</th>\n",
              "    </tr>\n",
              "  </thead>\n",
              "  <tbody>\n",
              "    <tr>\n",
              "      <th>0</th>\n",
              "      <td>Availability</td>\n",
              "      <td>353.5</td>\n",
              "    </tr>\n",
              "    <tr>\n",
              "      <th>1</th>\n",
              "      <td>Charges</td>\n",
              "      <td>77.0</td>\n",
              "    </tr>\n",
              "    <tr>\n",
              "      <th>2</th>\n",
              "      <td>Environment</td>\n",
              "      <td>87.0</td>\n",
              "    </tr>\n",
              "    <tr>\n",
              "      <th>3</th>\n",
              "      <td>Staff Behavior</td>\n",
              "      <td>83.5</td>\n",
              "    </tr>\n",
              "  </tbody>\n",
              "</table>\n",
              "</div>\n",
              "    <div class=\"colab-df-buttons\">\n",
              "\n",
              "  <div class=\"colab-df-container\">\n",
              "    <button class=\"colab-df-convert\" onclick=\"convertToInteractive('df-74346a1d-ab9e-436a-9849-e5c3b45fba84')\"\n",
              "            title=\"Convert this dataframe to an interactive table.\"\n",
              "            style=\"display:none;\">\n",
              "\n",
              "  <svg xmlns=\"http://www.w3.org/2000/svg\" height=\"24px\" viewBox=\"0 -960 960 960\">\n",
              "    <path d=\"M120-120v-720h720v720H120Zm60-500h600v-160H180v160Zm220 220h160v-160H400v160Zm0 220h160v-160H400v160ZM180-400h160v-160H180v160Zm440 0h160v-160H620v160ZM180-180h160v-160H180v160Zm440 0h160v-160H620v160Z\"/>\n",
              "  </svg>\n",
              "    </button>\n",
              "\n",
              "  <style>\n",
              "    .colab-df-container {\n",
              "      display:flex;\n",
              "      gap: 12px;\n",
              "    }\n",
              "\n",
              "    .colab-df-convert {\n",
              "      background-color: #E8F0FE;\n",
              "      border: none;\n",
              "      border-radius: 50%;\n",
              "      cursor: pointer;\n",
              "      display: none;\n",
              "      fill: #1967D2;\n",
              "      height: 32px;\n",
              "      padding: 0 0 0 0;\n",
              "      width: 32px;\n",
              "    }\n",
              "\n",
              "    .colab-df-convert:hover {\n",
              "      background-color: #E2EBFA;\n",
              "      box-shadow: 0px 1px 2px rgba(60, 64, 67, 0.3), 0px 1px 3px 1px rgba(60, 64, 67, 0.15);\n",
              "      fill: #174EA6;\n",
              "    }\n",
              "\n",
              "    .colab-df-buttons div {\n",
              "      margin-bottom: 4px;\n",
              "    }\n",
              "\n",
              "    [theme=dark] .colab-df-convert {\n",
              "      background-color: #3B4455;\n",
              "      fill: #D2E3FC;\n",
              "    }\n",
              "\n",
              "    [theme=dark] .colab-df-convert:hover {\n",
              "      background-color: #434B5C;\n",
              "      box-shadow: 0px 1px 3px 1px rgba(0, 0, 0, 0.15);\n",
              "      filter: drop-shadow(0px 1px 2px rgba(0, 0, 0, 0.3));\n",
              "      fill: #FFFFFF;\n",
              "    }\n",
              "  </style>\n",
              "\n",
              "    <script>\n",
              "      const buttonEl =\n",
              "        document.querySelector('#df-74346a1d-ab9e-436a-9849-e5c3b45fba84 button.colab-df-convert');\n",
              "      buttonEl.style.display =\n",
              "        google.colab.kernel.accessAllowed ? 'block' : 'none';\n",
              "\n",
              "      async function convertToInteractive(key) {\n",
              "        const element = document.querySelector('#df-74346a1d-ab9e-436a-9849-e5c3b45fba84');\n",
              "        const dataTable =\n",
              "          await google.colab.kernel.invokeFunction('convertToInteractive',\n",
              "                                                    [key], {});\n",
              "        if (!dataTable) return;\n",
              "\n",
              "        const docLinkHtml = 'Like what you see? Visit the ' +\n",
              "          '<a target=\"_blank\" href=https://colab.research.google.com/notebooks/data_table.ipynb>data table notebook</a>'\n",
              "          + ' to learn more about interactive tables.';\n",
              "        element.innerHTML = '';\n",
              "        dataTable['output_type'] = 'display_data';\n",
              "        await google.colab.output.renderOutput(dataTable, element);\n",
              "        const docLink = document.createElement('div');\n",
              "        docLink.innerHTML = docLinkHtml;\n",
              "        element.appendChild(docLink);\n",
              "      }\n",
              "    </script>\n",
              "  </div>\n",
              "\n",
              "\n",
              "<div id=\"df-843c5968-7c86-4fe2-a6b2-af861ee5e85e\">\n",
              "  <button class=\"colab-df-quickchart\" onclick=\"quickchart('df-843c5968-7c86-4fe2-a6b2-af861ee5e85e')\"\n",
              "            title=\"Suggest charts\"\n",
              "            style=\"display:none;\">\n",
              "\n",
              "<svg xmlns=\"http://www.w3.org/2000/svg\" height=\"24px\"viewBox=\"0 0 24 24\"\n",
              "     width=\"24px\">\n",
              "    <g>\n",
              "        <path d=\"M19 3H5c-1.1 0-2 .9-2 2v14c0 1.1.9 2 2 2h14c1.1 0 2-.9 2-2V5c0-1.1-.9-2-2-2zM9 17H7v-7h2v7zm4 0h-2V7h2v10zm4 0h-2v-4h2v4z\"/>\n",
              "    </g>\n",
              "</svg>\n",
              "  </button>\n",
              "\n",
              "<style>\n",
              "  .colab-df-quickchart {\n",
              "      --bg-color: #E8F0FE;\n",
              "      --fill-color: #1967D2;\n",
              "      --hover-bg-color: #E2EBFA;\n",
              "      --hover-fill-color: #174EA6;\n",
              "      --disabled-fill-color: #AAA;\n",
              "      --disabled-bg-color: #DDD;\n",
              "  }\n",
              "\n",
              "  [theme=dark] .colab-df-quickchart {\n",
              "      --bg-color: #3B4455;\n",
              "      --fill-color: #D2E3FC;\n",
              "      --hover-bg-color: #434B5C;\n",
              "      --hover-fill-color: #FFFFFF;\n",
              "      --disabled-bg-color: #3B4455;\n",
              "      --disabled-fill-color: #666;\n",
              "  }\n",
              "\n",
              "  .colab-df-quickchart {\n",
              "    background-color: var(--bg-color);\n",
              "    border: none;\n",
              "    border-radius: 50%;\n",
              "    cursor: pointer;\n",
              "    display: none;\n",
              "    fill: var(--fill-color);\n",
              "    height: 32px;\n",
              "    padding: 0;\n",
              "    width: 32px;\n",
              "  }\n",
              "\n",
              "  .colab-df-quickchart:hover {\n",
              "    background-color: var(--hover-bg-color);\n",
              "    box-shadow: 0 1px 2px rgba(60, 64, 67, 0.3), 0 1px 3px 1px rgba(60, 64, 67, 0.15);\n",
              "    fill: var(--button-hover-fill-color);\n",
              "  }\n",
              "\n",
              "  .colab-df-quickchart-complete:disabled,\n",
              "  .colab-df-quickchart-complete:disabled:hover {\n",
              "    background-color: var(--disabled-bg-color);\n",
              "    fill: var(--disabled-fill-color);\n",
              "    box-shadow: none;\n",
              "  }\n",
              "\n",
              "  .colab-df-spinner {\n",
              "    border: 2px solid var(--fill-color);\n",
              "    border-color: transparent;\n",
              "    border-bottom-color: var(--fill-color);\n",
              "    animation:\n",
              "      spin 1s steps(1) infinite;\n",
              "  }\n",
              "\n",
              "  @keyframes spin {\n",
              "    0% {\n",
              "      border-color: transparent;\n",
              "      border-bottom-color: var(--fill-color);\n",
              "      border-left-color: var(--fill-color);\n",
              "    }\n",
              "    20% {\n",
              "      border-color: transparent;\n",
              "      border-left-color: var(--fill-color);\n",
              "      border-top-color: var(--fill-color);\n",
              "    }\n",
              "    30% {\n",
              "      border-color: transparent;\n",
              "      border-left-color: var(--fill-color);\n",
              "      border-top-color: var(--fill-color);\n",
              "      border-right-color: var(--fill-color);\n",
              "    }\n",
              "    40% {\n",
              "      border-color: transparent;\n",
              "      border-right-color: var(--fill-color);\n",
              "      border-top-color: var(--fill-color);\n",
              "    }\n",
              "    60% {\n",
              "      border-color: transparent;\n",
              "      border-right-color: var(--fill-color);\n",
              "    }\n",
              "    80% {\n",
              "      border-color: transparent;\n",
              "      border-right-color: var(--fill-color);\n",
              "      border-bottom-color: var(--fill-color);\n",
              "    }\n",
              "    90% {\n",
              "      border-color: transparent;\n",
              "      border-bottom-color: var(--fill-color);\n",
              "    }\n",
              "  }\n",
              "</style>\n",
              "\n",
              "  <script>\n",
              "    async function quickchart(key) {\n",
              "      const quickchartButtonEl =\n",
              "        document.querySelector('#' + key + ' button');\n",
              "      quickchartButtonEl.disabled = true;  // To prevent multiple clicks.\n",
              "      quickchartButtonEl.classList.add('colab-df-spinner');\n",
              "      try {\n",
              "        const charts = await google.colab.kernel.invokeFunction(\n",
              "            'suggestCharts', [key], {});\n",
              "      } catch (error) {\n",
              "        console.error('Error during call to suggestCharts:', error);\n",
              "      }\n",
              "      quickchartButtonEl.classList.remove('colab-df-spinner');\n",
              "      quickchartButtonEl.classList.add('colab-df-quickchart-complete');\n",
              "    }\n",
              "    (() => {\n",
              "      let quickchartButtonEl =\n",
              "        document.querySelector('#df-843c5968-7c86-4fe2-a6b2-af861ee5e85e button');\n",
              "      quickchartButtonEl.style.display =\n",
              "        google.colab.kernel.accessAllowed ? 'block' : 'none';\n",
              "    })();\n",
              "  </script>\n",
              "</div>\n",
              "\n",
              "  <div id=\"id_05ea4677-e131-4886-adfa-3e34599e0247\">\n",
              "    <style>\n",
              "      .colab-df-generate {\n",
              "        background-color: #E8F0FE;\n",
              "        border: none;\n",
              "        border-radius: 50%;\n",
              "        cursor: pointer;\n",
              "        display: none;\n",
              "        fill: #1967D2;\n",
              "        height: 32px;\n",
              "        padding: 0 0 0 0;\n",
              "        width: 32px;\n",
              "      }\n",
              "\n",
              "      .colab-df-generate:hover {\n",
              "        background-color: #E2EBFA;\n",
              "        box-shadow: 0px 1px 2px rgba(60, 64, 67, 0.3), 0px 1px 3px 1px rgba(60, 64, 67, 0.15);\n",
              "        fill: #174EA6;\n",
              "      }\n",
              "\n",
              "      [theme=dark] .colab-df-generate {\n",
              "        background-color: #3B4455;\n",
              "        fill: #D2E3FC;\n",
              "      }\n",
              "\n",
              "      [theme=dark] .colab-df-generate:hover {\n",
              "        background-color: #434B5C;\n",
              "        box-shadow: 0px 1px 3px 1px rgba(0, 0, 0, 0.15);\n",
              "        filter: drop-shadow(0px 1px 2px rgba(0, 0, 0, 0.3));\n",
              "        fill: #FFFFFF;\n",
              "      }\n",
              "    </style>\n",
              "    <button class=\"colab-df-generate\" onclick=\"generateWithVariable('grouped_df')\"\n",
              "            title=\"Generate code using this dataframe.\"\n",
              "            style=\"display:none;\">\n",
              "\n",
              "  <svg xmlns=\"http://www.w3.org/2000/svg\" height=\"24px\"viewBox=\"0 0 24 24\"\n",
              "       width=\"24px\">\n",
              "    <path d=\"M7,19H8.4L18.45,9,17,7.55,7,17.6ZM5,21V16.75L18.45,3.32a2,2,0,0,1,2.83,0l1.4,1.43a1.91,1.91,0,0,1,.58,1.4,1.91,1.91,0,0,1-.58,1.4L9.25,21ZM18.45,9,17,7.55Zm-12,3A5.31,5.31,0,0,0,4.9,8.1,5.31,5.31,0,0,0,1,6.5,5.31,5.31,0,0,0,4.9,4.9,5.31,5.31,0,0,0,6.5,1,5.31,5.31,0,0,0,8.1,4.9,5.31,5.31,0,0,0,12,6.5,5.46,5.46,0,0,0,6.5,12Z\"/>\n",
              "  </svg>\n",
              "    </button>\n",
              "    <script>\n",
              "      (() => {\n",
              "      const buttonEl =\n",
              "        document.querySelector('#id_05ea4677-e131-4886-adfa-3e34599e0247 button.colab-df-generate');\n",
              "      buttonEl.style.display =\n",
              "        google.colab.kernel.accessAllowed ? 'block' : 'none';\n",
              "\n",
              "      buttonEl.onclick = () => {\n",
              "        google.colab.notebook.generateWithVariable('grouped_df');\n",
              "      }\n",
              "      })();\n",
              "    </script>\n",
              "  </div>\n",
              "\n",
              "    </div>\n",
              "  </div>\n"
            ],
            "application/vnd.google.colaboratory.intrinsic+json": {
              "type": "dataframe",
              "variable_name": "grouped_df",
              "summary": "{\n  \"name\": \"grouped_df\",\n  \"rows\": 4,\n  \"fields\": [\n    {\n      \"column\": \"Category\",\n      \"properties\": {\n        \"dtype\": \"string\",\n        \"num_unique_values\": 4,\n        \"samples\": [\n          \"Charges\",\n          \"Staff Behavior\",\n          \"Availability\"\n        ],\n        \"semantic_type\": \"\",\n        \"description\": \"\"\n      }\n    },\n    {\n      \"column\": \"No. of Complaints\",\n      \"properties\": {\n        \"dtype\": \"number\",\n        \"std\": 135.56333083347675,\n        \"min\": 77.0,\n        \"max\": 353.5,\n        \"num_unique_values\": 4,\n        \"samples\": [\n          77.0,\n          83.5,\n          353.5\n        ],\n        \"semantic_type\": \"\",\n        \"description\": \"\"\n      }\n    }\n  ]\n}"
            }
          },
          "metadata": {},
          "execution_count": 3
        }
      ],
      "source": [
        "# Define categories for each service\n",
        "df['Category'] = [\n",
        "    'Charges',        # Charge extra fee\n",
        "    'Environment',    # Unhygienic environment\n",
        "    'Availability',   # Limited number of specialist doctors\n",
        "    'Staff Behavior', # Unfriendly staff\n",
        "    'Availability'    # Doctors not always available\n",
        "]\n",
        "\n",
        "# Group by category and sum the complaints\n",
        "grouped_df = df.groupby('Category')['No. of Complaints'].sum().reset_index()\n",
        "grouped_df"
      ]
    },
    {
      "cell_type": "markdown",
      "source": [
        "This will give us the total number of complaints per category, helping to identify the key problem areas."
      ],
      "metadata": {
        "id": "JaVI_N6qigt_"
      }
    },
    {
      "cell_type": "markdown",
      "source": [
        "## Q2: Can we predict the frequency of complaints for each category in the future?"
      ],
      "metadata": {
        "id": "Lj3OuAv_iyhf"
      }
    },
    {
      "cell_type": "markdown",
      "source": [
        "### Answer Q2:\n",
        "In fact we can predict the frequency of complaints for each category in future using series or regression model because this is numerical prediction problem. However, this data in [Table 1](#target-heading-5) is not sufficient to perform linear regression model. Table 1 data is aggregated over 2 columns. Given the raw dataset, we could potentially predict the frequecy of complaints for each category."
      ],
      "metadata": {
        "id": "KbOzsIJqi1RY"
      }
    },
    {
      "cell_type": "markdown",
      "source": [
        "## Q3: Are there any unusual patterns or outliers in the frequency of complaints that might require attention?"
      ],
      "metadata": {
        "id": "HsbESajFlDf6"
      }
    },
    {
      "cell_type": "markdown",
      "source": [
        "### Answer Q3:\n",
        "The complaints frequency in Table 1 should be in `integer` data format, and not `real`. It doesnt make sense that the complaints in decimal points where half complaint is made. This may be an error in data collection or reporting.\n",
        "\n",
        "The number of complaints for `Limited number of specialist doctors` is at extreme high side recording 320 commplaints. If the complaints data is valid, hospital management need more attention on this issue and address as priority tasks.\n",
        "\n",
        "Below is data visualization for the data in Table 1."
      ],
      "metadata": {
        "id": "nZJaEe0HlVsO"
      }
    },
    {
      "cell_type": "code",
      "source": [
        "# Find the max complaint category\n",
        "max_complaint_service = df[df['No. of Complaints'] == df['No. of Complaints'].max()]\n",
        "print(\"Service with the highest complaint count:\")\n",
        "print(max_complaint_service)"
      ],
      "metadata": {
        "colab": {
          "base_uri": "https://localhost:8080/"
        },
        "id": "oQ8wwPJHnHR_",
        "outputId": "bacb71d3-3433-4abc-f6c4-56bf0b7a0ecb"
      },
      "execution_count": 4,
      "outputs": [
        {
          "output_type": "stream",
          "name": "stdout",
          "text": [
            "Service with the highest complaint count:\n",
            "                      Hospital Services  No. of Complaints      Category\n",
            "2  Limited number of specialist doctors              320.0  Availability\n"
          ]
        }
      ]
    },
    {
      "cell_type": "code",
      "source": [
        "import matplotlib.pyplot as plt\n",
        "\n",
        "# Plot\n",
        "plt.figure(figsize=(12, 6))\n",
        "plt.bar(df['Hospital Services'], df['No. of Complaints'])\n",
        "plt.xlabel('Hospital Services')\n",
        "plt.ylabel('No. of Complaints')\n",
        "plt.title('Number of Complaints by Hospital Services')\n",
        "plt.xticks(rotation=45, ha='right')\n",
        "\n",
        "# Highlight the highest complaint count in red\n",
        "plt.bar(max_complaint_service['Hospital Services'], max_complaint_service['No. of Complaints'], color='red')\n",
        "plt.show()"
      ],
      "metadata": {
        "colab": {
          "base_uri": "https://localhost:8080/",
          "height": 740
        },
        "id": "ivarGoQhlVAz",
        "outputId": "d7d457c1-42f5-4a37-9814-b1236e301f35"
      },
      "execution_count": 7,
      "outputs": [
        {
          "output_type": "display_data",
          "data": {
            "text/plain": [
              "<Figure size 1200x600 with 1 Axes>"
            ],
            "image/png": "[encoded data removed]"
          },
          "metadata": {}
        }
      ]
    }
  ]
}